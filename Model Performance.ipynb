{
 "cells": [
  {
   "cell_type": "markdown",
   "id": "f0ef58d3",
   "metadata": {},
   "source": [
    "## Preliminaries"
   ]
  },
  {
   "cell_type": "code",
   "execution_count": 1,
   "id": "539b4801",
   "metadata": {},
   "outputs": [],
   "source": [
    "import numpy as np\n",
    "import pandas as pd\n",
    "from math import *\n",
    "import ast\n",
    "import math\n",
    "from sklearn.model_selection import train_test_split\n",
    "from sklearn.metrics import mean_squared_error"
   ]
  },
  {
   "cell_type": "code",
   "execution_count": 2,
   "id": "7a791d28",
   "metadata": {},
   "outputs": [],
   "source": [
    "# load assortment data\n",
    "assort = []\n",
    "filename = open(\"assortment.txt\",\"r\")\n",
    "for line in filename:\n",
    "    assort.append(ast.literal_eval(line))"
   ]
  },
  {
   "cell_type": "code",
   "execution_count": 3,
   "id": "a4c340c3",
   "metadata": {},
   "outputs": [],
   "source": [
    "# load Choice Probability\n",
    "prob = []\n",
    "filename = open(\"probability.txt\",\"r\")\n",
    "for line in filename:\n",
    "    prob.append(np.array(ast.literal_eval(line)))"
   ]
  },
  {
   "cell_type": "markdown",
   "id": "73c8f6d6",
   "metadata": {},
   "source": [
    "# Q1 "
   ]
  },
  {
   "cell_type": "markdown",
   "id": "2d2c2828",
   "metadata": {},
   "source": [
    "## Step 1: Get the beta coefficients using clean_train_long (0.8 of original training data, long format)"
   ]
  },
  {
   "cell_type": "markdown",
   "id": "0ecf9919",
   "metadata": {},
   "source": [
    "**Model 1: Multinomial Logit Model**"
   ]
  },
  {
   "cell_type": "code",
   "execution_count": 4,
   "id": "ae0916fb",
   "metadata": {
    "scrolled": true
   },
   "outputs": [
    {
     "name": "stdout",
     "output_type": "stream",
     "text": [
      "Optimization terminated successfully.\n",
      "         Current function value: 0.329576\n",
      "         Iterations 8\n"
     ]
    },
    {
     "data": {
      "text/html": [
       "<table class=\"simpletable\">\n",
       "<caption>MNLogit Regression Results</caption>\n",
       "<tr>\n",
       "  <th>Dep. Variable:</th>        <td>Chosen</td>      <th>  No. Observations:  </th>  <td>  7950</td> \n",
       "</tr>\n",
       "<tr>\n",
       "  <th>Model:</th>                <td>MNLogit</td>     <th>  Df Residuals:      </th>  <td>  7945</td> \n",
       "</tr>\n",
       "<tr>\n",
       "  <th>Method:</th>                 <td>MLE</td>       <th>  Df Model:          </th>  <td>     4</td> \n",
       "</tr>\n",
       "<tr>\n",
       "  <th>Date:</th>            <td>Sun, 19 Nov 2023</td> <th>  Pseudo R-squ.:     </th>  <td>0.4157</td> \n",
       "</tr>\n",
       "<tr>\n",
       "  <th>Time:</th>                <td>17:28:51</td>     <th>  Log-Likelihood:    </th> <td> -2620.1</td>\n",
       "</tr>\n",
       "<tr>\n",
       "  <th>converged:</th>             <td>True</td>       <th>  LL-Null:           </th> <td> -4484.2</td>\n",
       "</tr>\n",
       "<tr>\n",
       "  <th>Covariance Type:</th>     <td>nonrobust</td>    <th>  LLR p-value:       </th>  <td> 0.000</td> \n",
       "</tr>\n",
       "</table>\n",
       "<table class=\"simpletable\">\n",
       "<tr>\n",
       "  <th>Chosen=1</th>     <th>coef</th>     <th>std err</th>      <th>z</th>      <th>P>|z|</th>  <th>[0.025</th>    <th>0.975]</th>  \n",
       "</tr>\n",
       "<tr>\n",
       "  <th>const</th>     <td>   -1.9750</td> <td>    0.068</td> <td>  -28.936</td> <td> 0.000</td> <td>   -2.109</td> <td>   -1.841</td>\n",
       "</tr>\n",
       "<tr>\n",
       "  <th>Cores</th>     <td>    1.0615</td> <td>    0.027</td> <td>   39.022</td> <td> 0.000</td> <td>    1.008</td> <td>    1.115</td>\n",
       "</tr>\n",
       "<tr>\n",
       "  <th>Frequency</th> <td>    0.7625</td> <td>    0.089</td> <td>    8.595</td> <td> 0.000</td> <td>    0.589</td> <td>    0.936</td>\n",
       "</tr>\n",
       "<tr>\n",
       "  <th>TDP</th>       <td>   -0.0487</td> <td>    0.003</td> <td>  -17.672</td> <td> 0.000</td> <td>   -0.054</td> <td>   -0.043</td>\n",
       "</tr>\n",
       "<tr>\n",
       "  <th>Price</th>     <td>   -0.0015</td> <td>    0.000</td> <td>  -14.889</td> <td> 0.000</td> <td>   -0.002</td> <td>   -0.001</td>\n",
       "</tr>\n",
       "</table>"
      ],
      "text/latex": [
       "\\begin{center}\n",
       "\\begin{tabular}{lclc}\n",
       "\\toprule\n",
       "\\textbf{Dep. Variable:}   &      Chosen      & \\textbf{  No. Observations:  } &     7950    \\\\\n",
       "\\textbf{Model:}           &     MNLogit      & \\textbf{  Df Residuals:      } &     7945    \\\\\n",
       "\\textbf{Method:}          &       MLE        & \\textbf{  Df Model:          } &        4    \\\\\n",
       "\\textbf{Date:}            & Sun, 19 Nov 2023 & \\textbf{  Pseudo R-squ.:     } &   0.4157    \\\\\n",
       "\\textbf{Time:}            &     17:28:51     & \\textbf{  Log-Likelihood:    } &   -2620.1   \\\\\n",
       "\\textbf{converged:}       &       True       & \\textbf{  LL-Null:           } &   -4484.2   \\\\\n",
       "\\textbf{Covariance Type:} &    nonrobust     & \\textbf{  LLR p-value:       } &    0.000    \\\\\n",
       "\\bottomrule\n",
       "\\end{tabular}\n",
       "\\begin{tabular}{ccccccc}\n",
       "\\textbf{Chosen=1}  & \\textbf{coef} & \\textbf{std err} & \\textbf{z} & \\textbf{P$> |$z$|$} & \\textbf{[0.025} & \\textbf{0.975]}  \\\\\n",
       "\\midrule\n",
       "\\bottomrule\n",
       "\\end{tabular}\n",
       "\\begin{tabular}{lcccccc}\n",
       "\\textbf{const}     &      -1.9750  &        0.068     &   -28.936  &         0.000        &       -2.109    &       -1.841     \\\\\n",
       "\\textbf{Cores}     &       1.0615  &        0.027     &    39.022  &         0.000        &        1.008    &        1.115     \\\\\n",
       "\\textbf{Frequency} &       0.7625  &        0.089     &     8.595  &         0.000        &        0.589    &        0.936     \\\\\n",
       "\\textbf{TDP}       &      -0.0487  &        0.003     &   -17.672  &         0.000        &       -0.054    &       -0.043     \\\\\n",
       "\\textbf{Price}     &      -0.0015  &        0.000     &   -14.889  &         0.000        &       -0.002    &       -0.001     \\\\\n",
       "\\bottomrule\n",
       "\\end{tabular}\n",
       "%\\caption{MNLogit Regression Results}\n",
       "\\end{center}"
      ],
      "text/plain": [
       "<class 'statsmodels.iolib.summary.Summary'>\n",
       "\"\"\"\n",
       "                          MNLogit Regression Results                          \n",
       "==============================================================================\n",
       "Dep. Variable:                 Chosen   No. Observations:                 7950\n",
       "Model:                        MNLogit   Df Residuals:                     7945\n",
       "Method:                           MLE   Df Model:                            4\n",
       "Date:                Sun, 19 Nov 2023   Pseudo R-squ.:                  0.4157\n",
       "Time:                        17:28:51   Log-Likelihood:                -2620.1\n",
       "converged:                       True   LL-Null:                       -4484.2\n",
       "Covariance Type:            nonrobust   LLR p-value:                     0.000\n",
       "==============================================================================\n",
       "  Chosen=1       coef    std err          z      P>|z|      [0.025      0.975]\n",
       "------------------------------------------------------------------------------\n",
       "const         -1.9750      0.068    -28.936      0.000      -2.109      -1.841\n",
       "Cores          1.0615      0.027     39.022      0.000       1.008       1.115\n",
       "Frequency      0.7625      0.089      8.595      0.000       0.589       0.936\n",
       "TDP           -0.0487      0.003    -17.672      0.000      -0.054      -0.043\n",
       "Price         -0.0015      0.000    -14.889      0.000      -0.002      -0.001\n",
       "==============================================================================\n",
       "\"\"\""
      ]
     },
     "execution_count": 4,
     "metadata": {},
     "output_type": "execute_result"
    }
   ],
   "source": [
    "import pandas as pd\n",
    "import statsmodels.api as sm\n",
    "from sklearn.model_selection import train_test_split\n",
    "\n",
    "# Load the dataset\n",
    "file_path = 'clean_train_long.csv'\n",
    "data = pd.read_csv(file_path)\n",
    "\n",
    "# Create a column for SKU based on the Product column, as explained previously\n",
    "data['SKU'] = ((data['Product'] - 1) // 5) + 1\n",
    "data.loc[data['Product'] == 0, 'SKU'] = 0\n",
    "\n",
    "# Define the independent variables (features) for the model\n",
    "X_reduced = data[['Cores', 'Frequency', 'TDP', 'Price']]\n",
    "X_reduced = sm.add_constant(X_reduced)  # Add a constant to the model (intercept)\n",
    "\n",
    "# The dependent variable is 'Chosen'\n",
    "y = data['Chosen']\n",
    "\n",
    "# Building the Multinomial Logit Model with the reduced set of features\n",
    "mnl_model_reduced = sm.MNLogit(y, X_reduced).fit()\n",
    "\n",
    "# Output the summary of the new model\n",
    "model_summary = mnl_model_reduced.summary()\n",
    "\n",
    "# Display the summary\n",
    "model_summary"
   ]
  },
  {
   "cell_type": "markdown",
   "id": "c23f289f",
   "metadata": {},
   "source": [
    "**Model 2: biogeme**"
   ]
  },
  {
   "cell_type": "code",
   "execution_count": 5,
   "id": "4ef4eafd",
   "metadata": {},
   "outputs": [
    {
     "name": "stderr",
     "output_type": "stream",
     "text": [
      "D:\\anaconda\\lib\\site-packages\\tqdm\\auto.py:21: TqdmWarning: IProgress not found. Please update jupyter and ipywidgets. See https://ipywidgets.readthedocs.io/en/stable/user_install.html\n",
      "  from .autonotebook import tqdm as notebook_tqdm\n"
     ]
    },
    {
     "data": {
      "text/html": [
       "<div>\n",
       "<style scoped>\n",
       "    .dataframe tbody tr th:only-of-type {\n",
       "        vertical-align: middle;\n",
       "    }\n",
       "\n",
       "    .dataframe tbody tr th {\n",
       "        vertical-align: top;\n",
       "    }\n",
       "\n",
       "    .dataframe thead th {\n",
       "        text-align: right;\n",
       "    }\n",
       "</style>\n",
       "<table border=\"1\" class=\"dataframe\">\n",
       "  <thead>\n",
       "    <tr style=\"text-align: right;\">\n",
       "      <th></th>\n",
       "      <th>Value</th>\n",
       "      <th>Rob. Std err</th>\n",
       "      <th>Rob. t-test</th>\n",
       "      <th>Rob. p-value</th>\n",
       "    </tr>\n",
       "  </thead>\n",
       "  <tbody>\n",
       "    <tr>\n",
       "      <th>B_Cores</th>\n",
       "      <td>1.039711</td>\n",
       "      <td>0.023442</td>\n",
       "      <td>44.352411</td>\n",
       "      <td>0.000000</td>\n",
       "    </tr>\n",
       "    <tr>\n",
       "      <th>B_Frequency</th>\n",
       "      <td>0.185133</td>\n",
       "      <td>0.078382</td>\n",
       "      <td>2.361943</td>\n",
       "      <td>0.018179</td>\n",
       "    </tr>\n",
       "    <tr>\n",
       "      <th>B_Price</th>\n",
       "      <td>-0.001573</td>\n",
       "      <td>0.000104</td>\n",
       "      <td>-15.178099</td>\n",
       "      <td>0.000000</td>\n",
       "    </tr>\n",
       "    <tr>\n",
       "      <th>B_TDP</th>\n",
       "      <td>-0.049428</td>\n",
       "      <td>0.002318</td>\n",
       "      <td>-21.320253</td>\n",
       "      <td>0.000000</td>\n",
       "    </tr>\n",
       "  </tbody>\n",
       "</table>\n",
       "</div>"
      ],
      "text/plain": [
       "                Value  Rob. Std err  Rob. t-test  Rob. p-value\n",
       "B_Cores      1.039711      0.023442    44.352411      0.000000\n",
       "B_Frequency  0.185133      0.078382     2.361943      0.018179\n",
       "B_Price     -0.001573      0.000104   -15.178099      0.000000\n",
       "B_TDP       -0.049428      0.002318   -21.320253      0.000000"
      ]
     },
     "execution_count": 5,
     "metadata": {},
     "output_type": "execute_result"
    }
   ],
   "source": [
    "import pandas as pd\n",
    "import biogeme.database as db\n",
    "import biogeme.biogeme as bio\n",
    "from biogeme.expressions import Beta\n",
    "from biogeme import models\n",
    "\n",
    "# Load the data\n",
    "file_path = 'clean_train_long.csv'\n",
    "data = pd.read_csv(file_path)\n",
    "\n",
    "# Create a BioGEME database from the data\n",
    "database = db.Database('database', data)\n",
    "\n",
    "# The following statement allows you to use the names of the variables as defined in the DataFrame.\n",
    "globals().update(database.variables)\n",
    "\n",
    "# Define the parameters to be estimated\n",
    "B_Cores = Beta('B_Cores', 0, None, None, 0)\n",
    "B_Frequency = Beta('B_Frequency', 0, None, None, 0)\n",
    "B_TDP = Beta('B_TDP', 0, None, None, 0)\n",
    "B_Price = Beta('B_Price', 0, None, None, 0)\n",
    "\n",
    "# Define the utility function for the chosen alternative\n",
    "V1 = B_Cores * Cores + B_Frequency * Frequency + B_TDP * TDP + B_Price * Price\n",
    "# Utility of the non-chosen alternative is often normalized to 0.\n",
    "V0 = 0\n",
    "\n",
    "# Associate utility functions with the numbering of alternatives\n",
    "V = {0: V0, 1: V1}\n",
    "\n",
    "# Assume that both alternatives are available for all individuals\n",
    "av = {0: 1, 1: 1}\n",
    "\n",
    "# Define the model. Here, we use a binary logit model.\n",
    "logprob = models.loglogit(V, av, Chosen)\n",
    "\n",
    "# Create the Biogeme object\n",
    "biogeme = bio.BIOGEME(database, logprob)\n",
    "biogeme.modelName = 'Binary_Logit_Model'\n",
    "\n",
    "# Estimate the model\n",
    "results = biogeme.estimate()\n",
    "\n",
    "# Get the results in a pandas DataFrame\n",
    "pandas_results = results.getEstimatedParameters()\n",
    "pandas_results"
   ]
  },
  {
   "cell_type": "code",
   "execution_count": null,
   "id": "582b99c2",
   "metadata": {},
   "outputs": [],
   "source": []
  },
  {
   "cell_type": "code",
   "execution_count": null,
   "id": "51a3f70f",
   "metadata": {},
   "outputs": [],
   "source": []
  },
  {
   "cell_type": "code",
   "execution_count": null,
   "id": "b0fc361d",
   "metadata": {},
   "outputs": [],
   "source": []
  },
  {
   "cell_type": "markdown",
   "id": "e9b34076",
   "metadata": {},
   "source": [
    "## Step 2: Use beta coefficients from previous step to obtain predicted probabilities for clean_test (0.2 of original training data)"
   ]
  },
  {
   "cell_type": "code",
   "execution_count": 6,
   "id": "e7264e35",
   "metadata": {},
   "outputs": [],
   "source": [
    "df_validate = pd.read_csv('clean_test.csv')\n",
    "#df_validate.head()\n",
    "betas_1train = [-0.0015, 1.0615, 0.7625, -0.0487] # for sm.MNLogit method\n",
    "betas_2train = [-0.001573, 1.039712, 0.185147, -0.049428] # for Biogeme method"
   ]
  },
  {
   "cell_type": "markdown",
   "id": "0ca53556",
   "metadata": {},
   "source": [
    "**Model 1: Multinomial Logit Model**"
   ]
  },
  {
   "cell_type": "code",
   "execution_count": 7,
   "id": "783f234b",
   "metadata": {},
   "outputs": [],
   "source": [
    "def map_func(product_num):\n",
    "    product_vec = list(range(4))\n",
    "    \n",
    "    if product_num != 0:\n",
    "        payment_class = (product_num-1)%5\n",
    "        if payment_class == 0:\n",
    "            product_vec[0] = 3000\n",
    "        elif payment_class == 1:\n",
    "            product_vec[0] = 2700\n",
    "        elif payment_class == 2:\n",
    "            product_vec[0] = 2400\n",
    "        elif payment_class == 3:\n",
    "            product_vec[0] = 2100\n",
    "        elif payment_class == 4:\n",
    "            product_vec[0] = 1800\n",
    "\n",
    "        sku = (product_num-1)//5\n",
    "        if sku == 0:\n",
    "            product_vec[1]=4; product_vec[2]=3.2; product_vec[3]=95\n",
    "        elif sku == 1:\n",
    "            product_vec[1]=8; product_vec[2]=2.9; product_vec[3]=60\n",
    "        elif sku == 2:\n",
    "            product_vec[1]=8; product_vec[2]=2.9; product_vec[3]=95\n",
    "        elif sku == 3:\n",
    "            product_vec[1]=4; product_vec[2]=2.9; product_vec[3]=60\n",
    "        elif sku == 4:\n",
    "            product_vec[1]=4; product_vec[2]=3.2; product_vec[3]=60\n",
    "        elif sku == 5:\n",
    "            product_vec[1]=4; product_vec[2]=2.2; product_vec[3]=135\n",
    "    \n",
    "#    product_vec = product_vec.reshape(-1,1)\n",
    "    return product_vec #return (13x1)"
   ]
  },
  {
   "cell_type": "code",
   "execution_count": 8,
   "id": "12683899",
   "metadata": {},
   "outputs": [],
   "source": [
    "def calculate_prob_within_assortment_2(betas_l, assortment, product):\n",
    "    numerator = np.exp(np.dot(betas_l, product))\n",
    "    denominator = sum(np.exp(np.dot(betas_l, map_func(assortment[j]))) for j in range(len(assortment)))\n",
    "    return numerator/denominator\n",
    "\n",
    "assortments = []\n",
    "for k in df_validate['Assortment']:\n",
    "    assortment = []\n",
    "    k = ast.literal_eval(k)\n",
    "    for i in k:\n",
    "        assortment.append(calculate_prob_within_assortment_2(betas_1train, k, map_func(i)))\n",
    "    assortments.append(np.array(assortment))\n",
    "\n",
    "pred_prob = assortments"
   ]
  },
  {
   "cell_type": "markdown",
   "id": "3347d000",
   "metadata": {},
   "source": [
    "## Step 3: Extract true probability from clean_test (0.2 of original training data)"
   ]
  },
  {
   "cell_type": "code",
   "execution_count": 9,
   "id": "02712875",
   "metadata": {},
   "outputs": [],
   "source": [
    "true_prob_pre = list(df_validate['Probability'])\n",
    "true_prob = [np.array(ast.literal_eval(s)) for s in true_prob_pre]"
   ]
  },
  {
   "cell_type": "markdown",
   "id": "a9d16431",
   "metadata": {},
   "source": [
    "## Step 4:Calculate RMSE"
   ]
  },
  {
   "cell_type": "code",
   "execution_count": 10,
   "id": "8c422105",
   "metadata": {},
   "outputs": [],
   "source": [
    "def cal_RMSE(true_prob, pred_prob): \n",
    "    # true_prob is the true probability, cal_prob is the predicted probability. They must have the same dimension.\n",
    "    K=len(true_prob)\n",
    "    if len(pred_prob)!=K:\n",
    "        raise ValueError(\"Dimension mismatch\")\n",
    "    sum_error_sq=0\n",
    "    total_item=0\n",
    "    for a in range(K):\n",
    "        total_item += len(true_prob[a])\n",
    "        sum_error_sq += sum((true_prob[a]- pred_prob[a])**2)\n",
    "    return np.sqrt(sum_error_sq/total_item)"
   ]
  },
  {
   "cell_type": "code",
   "execution_count": 11,
   "id": "94292bb5",
   "metadata": {},
   "outputs": [
    {
     "name": "stdout",
     "output_type": "stream",
     "text": [
      "RMSE for MNLogit: 0.20281620238735312\n"
     ]
    }
   ],
   "source": [
    "print(f'RMSE for MNLogit: {cal_RMSE(true_prob, pred_prob)}')"
   ]
  },
  {
   "cell_type": "markdown",
   "id": "e133a0fe",
   "metadata": {},
   "source": [
    "**Model 2: Biogeme**\n",
    "\n",
    "Repeat Step 2 to 4 for Biogeme"
   ]
  },
  {
   "cell_type": "code",
   "execution_count": 17,
   "id": "27e04b85",
   "metadata": {},
   "outputs": [],
   "source": [
    "def calculate_prob_within_assortment_2(betas_2, assortment, product):\n",
    "    numerator = np.exp(np.dot(betas_2, product))\n",
    "    denominator = sum(np.exp(np.dot(betas_2, map_func(assortment[j]))) for j in range(len(assortment)))\n",
    "    return numerator/denominator\n",
    "\n",
    "assortments = []\n",
    "for k in df_validate['Assortment']:\n",
    "    assortment = []\n",
    "    k = ast.literal_eval(k)\n",
    "    for i in k:\n",
    "        assortment.append(calculate_prob_within_assortment_2(betas_2train, k, map_func(i)))\n",
    "    assortments.append(np.array(assortment))\n",
    "\n",
    "pred_prob2 = assortments"
   ]
  },
  {
   "cell_type": "code",
   "execution_count": 18,
   "id": "8a39e3db",
   "metadata": {},
   "outputs": [],
   "source": [
    "def cal_RMSE(true_prob, pred_prob): \n",
    "    # true_prob is the true probability, cal_prob is the predicted probability. They must have the same dimension.\n",
    "    K=len(true_prob)\n",
    "    if len(pred_prob)!=K:\n",
    "        raise ValueError(\"Dimension mismatch\")\n",
    "    sum_error_sq=0\n",
    "    total_item=0\n",
    "    for a in range(K):\n",
    "        total_item += len(true_prob[a])\n",
    "        sum_error_sq += sum((true_prob[a]- pred_prob[a])**2)\n",
    "    return np.sqrt(sum_error_sq/total_item)"
   ]
  },
  {
   "cell_type": "code",
   "execution_count": 19,
   "id": "a69c8702",
   "metadata": {},
   "outputs": [
    {
     "name": "stdout",
     "output_type": "stream",
     "text": [
      "RMSE for MNLogit: 0.2453416215762017\n"
     ]
    }
   ],
   "source": [
    "print(f'RMSE for MNLogit: {cal_RMSE(true_prob, pred_prob2)}')"
   ]
  },
  {
   "cell_type": "code",
   "execution_count": null,
   "id": "cbe3a64e",
   "metadata": {},
   "outputs": [],
   "source": []
  }
 ],
 "metadata": {
  "kernelspec": {
   "display_name": "Python 3 (ipykernel)",
   "language": "python",
   "name": "python3"
  },
  "language_info": {
   "codemirror_mode": {
    "name": "ipython",
    "version": 3
   },
   "file_extension": ".py",
   "mimetype": "text/x-python",
   "name": "python",
   "nbconvert_exporter": "python",
   "pygments_lexer": "ipython3",
   "version": "3.10.9"
  }
 },
 "nbformat": 4,
 "nbformat_minor": 5
}
