{
 "cells": [
  {
   "cell_type": "code",
   "execution_count": 1,
   "id": "b8e37e8c",
   "metadata": {},
   "outputs": [],
   "source": [
    "import numpy as np\n",
    "import pandas as pd\n",
    "from math import *\n",
    "import ast\n",
    "import math\n",
    "from sklearn.model_selection import train_test_split\n",
    "from sklearn.metrics import mean_squared_error\n",
    "from itertools import combinations"
   ]
  },
  {
   "cell_type": "code",
   "execution_count": 2,
   "id": "1321d28a",
   "metadata": {},
   "outputs": [],
   "source": [
    "\n",
    "\n",
    "product_dict = {\n",
    "    0: [0, 0, 0, 0],\n",
    "    1: [2400, 4, 3.2, 95],\n",
    "    2: [2100, 8, 2.9, 60],\n",
    "    3: [2700, 8, 2.9, 95],\n",
    "    4: [2100, 4, 2.9, 60],\n",
    "    5: [2100, 4, 3.2, 60],\n",
    "    6: [2700, 4, 2.2, 135]\n",
    "}\n",
    "\n",
    "possible_products = [1, 2, 3, 4, 5, 6]\n",
    "\n",
    "assortments_1 = {}\n",
    "for i in range(1, 4):\n",
    "    i_item_combinations = list(combinations(possible_products, i))\n",
    "    for assortment in i_item_combinations:\n",
    "        assortment = [0]+list(assortment)\n",
    "        assortments_1[tuple(assortment)] = 0\n",
    "\n",
    "\n",
    "betas_1 = [-0.0016, 1.0765, 0.7898, -0.0506] #statsmodel MNLogit (price, cores, frequency, TDP)\n"
   ]
  },
  {
   "cell_type": "code",
   "execution_count": 3,
   "id": "8c07484d",
   "metadata": {},
   "outputs": [
    {
     "name": "stdout",
     "output_type": "stream",
     "text": [
      "best assortment is: (0, 1, 3, 6) --- (beta1: statsmodel MNLogit)\n",
      "best revenue is: 2311.288453304129 --- (beta1: statsmodel MNLogit)\n"
     ]
    }
   ],
   "source": [
    "def calculate_prob_within_assortment(betas_i, assortment, product):\n",
    "    numerator = np.exp(np.dot(betas_i, product_dict[product]))\n",
    "    denominator = sum(np.exp(np.dot(betas_i, product_dict[j])) for j in assortment)\n",
    "    return numerator/denominator\n",
    "\n",
    "def expected_revenue(betas_i, assortment):\n",
    "    expected_revenue = 0\n",
    "    for each in assortment:\n",
    "        expected_revenue += (product_dict[each][0] * calculate_prob_within_assortment(betas_i, assortment, each)) # price*probability\n",
    "    return expected_revenue\n",
    "\n",
    "for key in assortments_1:\n",
    "    assortments_1[key] = expected_revenue(betas_1, list(key))\n",
    "max_pair_1 = max(assortments_1.items(), key=lambda x: x[1])\n",
    "print(f'best assortment is: {max_pair_1[0]} --- (beta1: statsmodel MNLogit)')\n",
    "print(f'best revenue is: {max_pair_1[1]} --- (beta1: statsmodel MNLogit)')"
   ]
  }
 ],
 "metadata": {
  "kernelspec": {
   "display_name": "Python 3 (ipykernel)",
   "language": "python",
   "name": "python3"
  },
  "language_info": {
   "codemirror_mode": {
    "name": "ipython",
    "version": 3
   },
   "file_extension": ".py",
   "mimetype": "text/x-python",
   "name": "python",
   "nbconvert_exporter": "python",
   "pygments_lexer": "ipython3",
   "version": "3.10.9"
  }
 },
 "nbformat": 4,
 "nbformat_minor": 5
}
